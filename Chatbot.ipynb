{
  "nbformat": 4,
  "nbformat_minor": 0,
  "metadata": {
    "colab": {
      "provenance": [],
      "collapsed_sections": [],
      "authorship_tag": "ABX9TyPq0gDpw2kkXQnyQkIYzW7a",
      "include_colab_link": true
    },
    "kernelspec": {
      "name": "python3",
      "display_name": "Python 3"
    },
    "language_info": {
      "name": "python"
    }
  },
  "cells": [
    {
      "cell_type": "markdown",
      "metadata": {
        "id": "view-in-github",
        "colab_type": "text"
      },
      "source": [
        "<a href=\"https://colab.research.google.com/github/akhmadazizmario/Chatbot_PYTHON/blob/main/Chatbot.ipynb\" target=\"_parent\"><img src=\"https://colab.research.google.com/assets/colab-badge.svg\" alt=\"Open In Colab\"/></a>"
      ]
    },
    {
      "cell_type": "code",
      "execution_count": null,
      "metadata": {
        "id": "VF7ys6lEpEBs",
        "colab": {
          "base_uri": "https://localhost:8080/"
        },
        "outputId": "ffc76fd0-9660-4138-d916-6ea2df052a21"
      },
      "outputs": [
        {
          "output_type": "stream",
          "name": "stdout",
          "text": [
            "User\t: Hai chatbot\n",
            "Bot\t: Aku Tidak Paham\n",
            "User\t: hai chatbot\n",
            "Bot\t: Apa Kabar\n",
            "User\t: hai\n",
            "Bot\t: Halo Juga\n"
          ]
        }
      ],
      "source": [
        "import re\n",
        "import random #module random \n",
        "\n",
        "sapaan =  [ \"Hai Juga\", \"Halo Juga\", \"Apa Kabar\" ]\n",
        "\n",
        "while True:\n",
        "  x = input(\"User\\t: \")\n",
        "  if re.findall(r' halo|hai', x): #tanda (|) artinya atau dalam python\n",
        "      print(\"Bot\\t:\", random.choice(sapaan))\n",
        "  else: \n",
        "     print(\"Bot\\t: Aku Tidak Paham\")"
      ]
    },
    {
      "cell_type": "code",
      "source": [],
      "metadata": {
        "id": "kgAn_F8BPD2_"
      },
      "execution_count": null,
      "outputs": []
    }
  ]
}